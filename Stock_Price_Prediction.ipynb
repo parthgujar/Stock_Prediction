{
 "cells": [
  {
   "cell_type": "code",
   "execution_count": null,
   "metadata": {},
   "outputs": [],
   "source": [
    "\n",
    "\n",
    "import tweepy\n",
    "import csv\n",
    "import numpy as np\n",
    "from textblob import TextBlob\n",
    "from keras.models import Sequential\n",
    "from keras.layers import Dense,LSTM\n",
    "np.random.seed(7)\n",
    "import matplotlib.pyplot as plt\n",
    "%matplotlib inline\n",
    "\n"
   ]
  },
  {
   "cell_type": "code",
   "execution_count": null,
   "metadata": {},
   "outputs": [],
   "source": [
    "#inserting API Keys\n",
    "\n",
    "\n",
    "consumer_key = ''\n",
    "consumer_secret = ''\n",
    "\n",
    "access_token = ''\n",
    "access_token_secret = ''\n",
    "\n",
    "\n",
    "auth = tweepy.OAuthHandler(consumer_key, consumer_secret)\n",
    "auth.set_access_token(access_token, access_token_secret)\n",
    "api = tweepy.API(auth)\n"
   ]
  },
  {
   "cell_type": "code",
   "execution_count": null,
   "metadata": {},
   "outputs": [],
   "source": [
    "#searcing company on twitter\n",
    "public_tweets = api.search('Facebook')\n",
    "print (public_tweets[5].text)"
   ]
  },
  {
   "cell_type": "code",
   "execution_count": null,
   "metadata": {},
   "outputs": [],
   "source": [
    "\n",
    "\n",
    "#Defining a threshold for each sentiment\n",
    "threshold=0\n",
    "pos_sent_tweet=0\n",
    "neg_sent_tweet=0\n",
    "for tweet in public_tweets:\n",
    "    analysis=TextBlob(tweet.text)\n",
    "    if analysis.sentiment.polarity>=threshold:\n",
    "        pos_sent_tweet=pos_sent_tweet+1\n",
    "    else:\n",
    "        neg_sent_tweet=neg_sent_tweet+1\n",
    "if pos_sent_tweet>neg_sent_tweet:\n",
    "    print (\"Overall Positive\")\n",
    "else:\n",
    "    print (\"Overall Negative\")\n",
    "\n"
   ]
  },
  {
   "cell_type": "code",
   "execution_count": null,
   "metadata": {},
   "outputs": [],
   "source": [
    "#data collection\n",
    "dates = []\n",
    "prices = []\n",
    "def get_data(filename):\n",
    "\twith open(filename, 'r') as csvfile:\n",
    "\t\tcsvFileReader = csv.reader(csvfile)\n",
    "\t\tnext(csvFileReader)\n",
    "\t\tfor row in csvFileReader:\n",
    "\t\t\tdates.append(int(row[0].split('-')[0]))\n",
    "\t\t\tprices.append(float(row[1]))\n",
    "\treturn\n",
    "get_data('fb.csv')\n",
    "plt.plot(prices)\n",
    "\n",
    "plt.show()"
   ]
  },
  {
   "cell_type": "code",
   "execution_count": null,
   "metadata": {},
   "outputs": [],
   "source": [
    "def create_datasets(dates,prices):\n",
    "    train_size=int(0.80*len(dates))\n",
    "    TrainX,TrainY=[],[]\n",
    "    TestX,TestY=[],[]\n",
    "    cntr=0\n",
    "    for date in dates:\n",
    "        if cntr<train_size:\n",
    "            TrainX.append(date)\n",
    "        else:\n",
    "            TestX.append(date)    \n",
    "    for price in prices:\n",
    "        if cntr<train_size:\n",
    "            TrainY.append(price)\n",
    "        else:\n",
    "            TestY.append(price)\n",
    "            \n",
    "    return TrainX,TrainY,TestX,TestY\n",
    "\n",
    "def predict_prices(dates,prices,x):\n",
    "    TrainX,TrainY,TestX,TestY=create_datasets(dates,prices)\n",
    "\n",
    "    TrainX=np.reshape(TrainX,(len(TrainX),1))\n",
    "    TrainY=np.reshape(TrainY,(len(TrainY),1))\n",
    "    TestX=np.reshape(TestX,(len(TestX),1))\n",
    "    TestY=np.reshape(TestY,(len(TestY),1))\n",
    "    \n",
    "    #for i in range(251):\n",
    "     #   print TrainX[i],TrainY[i],'\\n'\n",
    "    \n",
    "    \n",
    "    model=Sequential()\n",
    "    model.add(Dense(32,input_dim=1,init='uniform',activation='relu'))\n",
    "    model.add(Dense(32,input_dim=1,init='uniform',activation='relu'))\n",
    "    model.add(Dense(16,init='uniform',activation='relu'))\n",
    "    \n",
    "    model.add(Dense(1,init='uniform',activation='relu'))\n",
    "    model.compile(loss='mean_squared_error',optimizer='adam',metrics=['accuracy'])\n",
    "    model.fit(TrainX,TrainY,nb_epoch=100,batch_size=3,verbose=1)"
   ]
  },
  {
   "cell_type": "code",
   "execution_count": null,
   "metadata": {},
   "outputs": [],
   "source": [
    "\n",
    "\n",
    "predict_prices(dates,prices,2)\n",
    "\n"
   ]
  },
  {
   "cell_type": "code",
   "execution_count": null,
   "metadata": {},
   "outputs": [],
   "source": []
  }
 ],
 "metadata": {
  "kernelspec": {
   "display_name": "Python 3",
   "language": "python",
   "name": "python3"
  },
  "language_info": {
   "codemirror_mode": {
    "name": "ipython",
    "version": 3
   },
   "file_extension": ".py",
   "mimetype": "text/x-python",
   "name": "python",
   "nbconvert_exporter": "python",
   "pygments_lexer": "ipython3",
   "version": "3.6.5"
  }
 },
 "nbformat": 4,
 "nbformat_minor": 2
}
